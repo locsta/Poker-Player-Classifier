{
 "cells": [
  {
   "cell_type": "markdown",
   "metadata": {},
   "source": [
    "# CRISP-DM Bullshit here"
   ]
  },
  {
   "cell_type": "markdown",
   "metadata": {},
   "source": [
    "### Import librairies"
   ]
  },
  {
   "cell_type": "code",
   "execution_count": 23,
   "metadata": {},
   "outputs": [],
   "source": [
    "import pandas as pd\n",
    "import matplotlib.pyplot as plt\n",
    "import numpy as np\n",
    "from functions import *\n",
    "from sklearn.datasets import make_blobs\n",
    "from sklearn.datasets import make_moons\n",
    "from sklearn.model_selection import train_test_split\n",
    "from sklearn.preprocessing import StandardScaler\n",
    "from sklearn.neighbors import KNeighborsClassifier\n",
    "from sklearn.metrics import precision_score, recall_score, accuracy_score, f1_score\n",
    "from sklearn.tree import DecisionTreeClassifier\n",
    "from sklearn.linear_model import LogisticRegression\n",
    "from sklearn.pipeline import Pipeline\n",
    "from sklearn.ensemble import RandomForestClassifier\n",
    "from sklearn.model_selection import GridSearchCV\n",
    "from sklearn import tree\n",
    "from sklearn import svm\n",
    "from sklearn.metrics import accuracy_score\n",
    "from sklearn.tree import export_graphviz\n",
    "from sklearn.preprocessing import OneHotEncoder\n",
    "from IPython.display import Image  \n",
    "from pydotplus import graph_from_dot_data\n",
    "from pprint import pprint\n",
    "\n",
    "%matplotlib inline"
   ]
  },
  {
   "cell_type": "markdown",
   "metadata": {},
   "source": [
    "### Read csv file and preview file"
   ]
  },
  {
   "cell_type": "code",
   "execution_count": 24,
   "metadata": {},
   "outputs": [
    {
     "data": {
      "text/html": [
       "<div>\n",
       "<style scoped>\n",
       "    .dataframe tbody tr th:only-of-type {\n",
       "        vertical-align: middle;\n",
       "    }\n",
       "\n",
       "    .dataframe tbody tr th {\n",
       "        vertical-align: top;\n",
       "    }\n",
       "\n",
       "    .dataframe thead th {\n",
       "        text-align: right;\n",
       "    }\n",
       "</style>\n",
       "<table border=\"1\" class=\"dataframe\">\n",
       "  <thead>\n",
       "    <tr style=\"text-align: right;\">\n",
       "      <th></th>\n",
       "      <th>Player Name</th>\n",
       "      <th>Site</th>\n",
       "      <th>Hands</th>\n",
       "      <th>Net Won</th>\n",
       "      <th>VP$IP</th>\n",
       "      <th>PFR</th>\n",
       "      <th>3Bet</th>\n",
       "      <th>Postflop\n",
       "Agg%</th>\n",
       "      <th>W$WSF%</th>\n",
       "      <th>WTSD%</th>\n",
       "      <th>...</th>\n",
       "      <th>Raise\n",
       "River CBet</th>\n",
       "      <th>Squeeze</th>\n",
       "      <th>Raise Two\n",
       "Raisers</th>\n",
       "      <th>Call Two\n",
       "Raisers</th>\n",
       "      <th>vs 3Bet\n",
       "Fold</th>\n",
       "      <th>vs 3Bet\n",
       "Call</th>\n",
       "      <th>vs 3Bet\n",
       "Raise</th>\n",
       "      <th>vs 4Bet\n",
       "Fold</th>\n",
       "      <th>vs 4Bet\n",
       "Call</th>\n",
       "      <th>vs 4Bet\n",
       "Raise</th>\n",
       "    </tr>\n",
       "  </thead>\n",
       "  <tbody>\n",
       "    <tr>\n",
       "      <th>0</th>\n",
       "      <td>LocSta</td>\n",
       "      <td>22</td>\n",
       "      <td>2035485</td>\n",
       "      <td>128473.89</td>\n",
       "      <td>0.249043</td>\n",
       "      <td>0.210084</td>\n",
       "      <td>0.094206</td>\n",
       "      <td>0.351073</td>\n",
       "      <td>0.477881</td>\n",
       "      <td>0.293348</td>\n",
       "      <td>...</td>\n",
       "      <td>0.113415</td>\n",
       "      <td>0.102155</td>\n",
       "      <td>0.040503</td>\n",
       "      <td>0.016301</td>\n",
       "      <td>0.604096</td>\n",
       "      <td>0.242094</td>\n",
       "      <td>0.154423</td>\n",
       "      <td>0.354854</td>\n",
       "      <td>0.284278</td>\n",
       "      <td>0.360868</td>\n",
       "    </tr>\n",
       "    <tr>\n",
       "      <th>1</th>\n",
       "      <td>.PARTOUCHE.</td>\n",
       "      <td>22</td>\n",
       "      <td>178311</td>\n",
       "      <td>15940.79</td>\n",
       "      <td>0.251039</td>\n",
       "      <td>0.201261</td>\n",
       "      <td>0.077332</td>\n",
       "      <td>0.314294</td>\n",
       "      <td>0.422270</td>\n",
       "      <td>0.242501</td>\n",
       "      <td>...</td>\n",
       "      <td>0.135371</td>\n",
       "      <td>0.076993</td>\n",
       "      <td>0.026232</td>\n",
       "      <td>0.010154</td>\n",
       "      <td>0.679106</td>\n",
       "      <td>0.209865</td>\n",
       "      <td>0.112322</td>\n",
       "      <td>0.481436</td>\n",
       "      <td>0.191832</td>\n",
       "      <td>0.326733</td>\n",
       "    </tr>\n",
       "    <tr>\n",
       "      <th>2</th>\n",
       "      <td>julien8082</td>\n",
       "      <td>22</td>\n",
       "      <td>110413</td>\n",
       "      <td>20157.79</td>\n",
       "      <td>0.277494</td>\n",
       "      <td>0.239465</td>\n",
       "      <td>0.077709</td>\n",
       "      <td>0.374164</td>\n",
       "      <td>0.475568</td>\n",
       "      <td>0.241437</td>\n",
       "      <td>...</td>\n",
       "      <td>0.190751</td>\n",
       "      <td>0.081782</td>\n",
       "      <td>0.044171</td>\n",
       "      <td>0.005646</td>\n",
       "      <td>0.656114</td>\n",
       "      <td>0.229410</td>\n",
       "      <td>0.115623</td>\n",
       "      <td>0.471349</td>\n",
       "      <td>0.173752</td>\n",
       "      <td>0.354898</td>\n",
       "    </tr>\n",
       "    <tr>\n",
       "      <th>3</th>\n",
       "      <td>PapiersSVP</td>\n",
       "      <td>0</td>\n",
       "      <td>103957</td>\n",
       "      <td>17549.39</td>\n",
       "      <td>0.257664</td>\n",
       "      <td>0.221630</td>\n",
       "      <td>0.109587</td>\n",
       "      <td>0.345363</td>\n",
       "      <td>0.467605</td>\n",
       "      <td>0.300238</td>\n",
       "      <td>...</td>\n",
       "      <td>0.099010</td>\n",
       "      <td>0.107238</td>\n",
       "      <td>0.051926</td>\n",
       "      <td>0.016876</td>\n",
       "      <td>0.541318</td>\n",
       "      <td>0.270994</td>\n",
       "      <td>0.188692</td>\n",
       "      <td>0.343150</td>\n",
       "      <td>0.281690</td>\n",
       "      <td>0.375160</td>\n",
       "    </tr>\n",
       "    <tr>\n",
       "      <th>4</th>\n",
       "      <td>NextPlease</td>\n",
       "      <td>22</td>\n",
       "      <td>99879</td>\n",
       "      <td>7326.03</td>\n",
       "      <td>0.260485</td>\n",
       "      <td>0.212327</td>\n",
       "      <td>0.082384</td>\n",
       "      <td>0.328379</td>\n",
       "      <td>0.461007</td>\n",
       "      <td>0.263755</td>\n",
       "      <td>...</td>\n",
       "      <td>0.147826</td>\n",
       "      <td>0.067406</td>\n",
       "      <td>0.023245</td>\n",
       "      <td>0.028610</td>\n",
       "      <td>0.596575</td>\n",
       "      <td>0.290834</td>\n",
       "      <td>0.114494</td>\n",
       "      <td>0.520629</td>\n",
       "      <td>0.108055</td>\n",
       "      <td>0.371316</td>\n",
       "    </tr>\n",
       "  </tbody>\n",
       "</table>\n",
       "<p>5 rows × 29 columns</p>\n",
       "</div>"
      ],
      "text/plain": [
       "   Player Name  Site    Hands    Net Won     VP$IP       PFR      3Bet  \\\n",
       "0       LocSta    22  2035485  128473.89  0.249043  0.210084  0.094206   \n",
       "1  .PARTOUCHE.    22   178311   15940.79  0.251039  0.201261  0.077332   \n",
       "2   julien8082    22   110413   20157.79  0.277494  0.239465  0.077709   \n",
       "3   PapiersSVP     0   103957   17549.39  0.257664  0.221630  0.109587   \n",
       "4   NextPlease    22    99879    7326.03  0.260485  0.212327  0.082384   \n",
       "\n",
       "   Postflop\\nAgg%    W$WSF%     WTSD%  ...  Raise\\nRiver CBet   Squeeze  \\\n",
       "0        0.351073  0.477881  0.293348  ...           0.113415  0.102155   \n",
       "1        0.314294  0.422270  0.242501  ...           0.135371  0.076993   \n",
       "2        0.374164  0.475568  0.241437  ...           0.190751  0.081782   \n",
       "3        0.345363  0.467605  0.300238  ...           0.099010  0.107238   \n",
       "4        0.328379  0.461007  0.263755  ...           0.147826  0.067406   \n",
       "\n",
       "   Raise Two\\nRaisers  Call Two\\nRaisers  vs 3Bet\\nFold  vs 3Bet\\nCall  \\\n",
       "0            0.040503           0.016301       0.604096       0.242094   \n",
       "1            0.026232           0.010154       0.679106       0.209865   \n",
       "2            0.044171           0.005646       0.656114       0.229410   \n",
       "3            0.051926           0.016876       0.541318       0.270994   \n",
       "4            0.023245           0.028610       0.596575       0.290834   \n",
       "\n",
       "   vs 3Bet\\nRaise  vs 4Bet\\nFold  vs 4Bet\\nCall  vs 4Bet\\nRaise  \n",
       "0        0.154423       0.354854       0.284278        0.360868  \n",
       "1        0.112322       0.481436       0.191832        0.326733  \n",
       "2        0.115623       0.471349       0.173752        0.354898  \n",
       "3        0.188692       0.343150       0.281690        0.375160  \n",
       "4        0.114494       0.520629       0.108055        0.371316  \n",
       "\n",
       "[5 rows x 29 columns]"
      ]
     },
     "execution_count": 24,
     "metadata": {},
     "output_type": "execute_result"
    }
   ],
   "source": [
    "df = pd.read_csv(\"Poker.csv\", encoding='latin-1')\n",
    "df.head()"
   ]
  },
  {
   "cell_type": "code",
   "execution_count": 25,
   "metadata": {},
   "outputs": [
    {
     "name": "stdout",
     "output_type": "stream",
     "text": [
      "Before filtering\n",
      "3085 winners\n",
      "5737 losers\n",
      "Winners % 0.3496939469508048\n"
     ]
    }
   ],
   "source": [
    "print(\"Before filtering\")\n",
    "winners = len(df[df[\"Net Won\"] > 0])\n",
    "losers = len(df[df[\"Net Won\"] <= 0])\n",
    "print(winners, \"winners\")\n",
    "print(losers, \"losers\")\n",
    "print(\"Winners %\", winners / (winners + losers))"
   ]
  },
  {
   "cell_type": "code",
   "execution_count": 26,
   "metadata": {},
   "outputs": [],
   "source": [
    "# df_filtered = df[df['Hands'] > 500]\n",
    "# print(\"After filtering\")\n",
    "# winners_f = len(df_filtered[df_filtered[\"Net Won\"] > 0])\n",
    "# losers_f = len(df_filtered[df_filtered[\"Net Won\"] <= 0])\n",
    "# print(winners_f, \" winners\")\n",
    "# print(losers_f, \"losers\")\n",
    "# print(\"Winners %\", winners_f / (winners_f + losers_f))"
   ]
  },
  {
   "cell_type": "code",
   "execution_count": 27,
   "metadata": {},
   "outputs": [
    {
     "name": "stdout",
     "output_type": "stream",
     "text": [
      "['Player Name',\n",
      " 'Site',\n",
      " 'Hands',\n",
      " 'Net Won',\n",
      " 'VP$IP',\n",
      " 'PFR',\n",
      " '3Bet',\n",
      " 'Postflop\\nAgg%',\n",
      " 'W$WSF%',\n",
      " 'WTSD%',\n",
      " 'Won $\\nat SD',\n",
      " 'Flop\\nCBet%',\n",
      " 'Turn\\nCBet%',\n",
      " 'River\\nCBet%',\n",
      " 'Fold to\\nFlop Cbet',\n",
      " 'Fold to\\nTurn CBet',\n",
      " 'Fold to\\nRiver CBet',\n",
      " 'Raise\\nFlop Cbet',\n",
      " 'Raise\\nTurn CBet',\n",
      " 'Raise\\nRiver CBet',\n",
      " 'Squeeze',\n",
      " 'Raise Two\\nRaisers',\n",
      " 'Call Two\\nRaisers',\n",
      " 'vs 3Bet\\nFold',\n",
      " 'vs 3Bet\\nCall',\n",
      " 'vs 3Bet\\nRaise',\n",
      " 'vs 4Bet\\nFold',\n",
      " 'vs 4Bet\\nCall',\n",
      " 'vs 4Bet\\nRaise']\n"
     ]
    }
   ],
   "source": [
    "pprint(list(df.columns))"
   ]
  },
  {
   "cell_type": "markdown",
   "metadata": {},
   "source": [
    "### Rename columns for more clarity (replacing \\n by spaces)"
   ]
  },
  {
   "cell_type": "code",
   "execution_count": 28,
   "metadata": {},
   "outputs": [],
   "source": [
    "df.columns = df.columns.str.replace('\\n',' ')\n",
    "df.columns = df.columns.str.replace(' ','_')\n",
    "df.columns = df.columns"
   ]
  },
  {
   "cell_type": "code",
   "execution_count": 29,
   "metadata": {},
   "outputs": [
    {
     "data": {
      "text/html": [
       "<div>\n",
       "<style scoped>\n",
       "    .dataframe tbody tr th:only-of-type {\n",
       "        vertical-align: middle;\n",
       "    }\n",
       "\n",
       "    .dataframe tbody tr th {\n",
       "        vertical-align: top;\n",
       "    }\n",
       "\n",
       "    .dataframe thead th {\n",
       "        text-align: right;\n",
       "    }\n",
       "</style>\n",
       "<table border=\"1\" class=\"dataframe\">\n",
       "  <thead>\n",
       "    <tr style=\"text-align: right;\">\n",
       "      <th></th>\n",
       "      <th>Player_Name</th>\n",
       "      <th>Site</th>\n",
       "      <th>Hands</th>\n",
       "      <th>Net_Won</th>\n",
       "      <th>VP$IP</th>\n",
       "      <th>PFR</th>\n",
       "      <th>3Bet</th>\n",
       "      <th>Postflop_Agg%</th>\n",
       "      <th>W$WSF%</th>\n",
       "      <th>WTSD%</th>\n",
       "      <th>...</th>\n",
       "      <th>Raise_River_CBet</th>\n",
       "      <th>Squeeze</th>\n",
       "      <th>Raise_Two_Raisers</th>\n",
       "      <th>Call_Two_Raisers</th>\n",
       "      <th>vs_3Bet_Fold</th>\n",
       "      <th>vs_3Bet_Call</th>\n",
       "      <th>vs_3Bet_Raise</th>\n",
       "      <th>vs_4Bet_Fold</th>\n",
       "      <th>vs_4Bet_Call</th>\n",
       "      <th>vs_4Bet_Raise</th>\n",
       "    </tr>\n",
       "  </thead>\n",
       "  <tbody>\n",
       "    <tr>\n",
       "      <th>0</th>\n",
       "      <td>LocSta</td>\n",
       "      <td>22</td>\n",
       "      <td>2035485</td>\n",
       "      <td>128473.89</td>\n",
       "      <td>0.249043</td>\n",
       "      <td>0.210084</td>\n",
       "      <td>0.094206</td>\n",
       "      <td>0.351073</td>\n",
       "      <td>0.477881</td>\n",
       "      <td>0.293348</td>\n",
       "      <td>...</td>\n",
       "      <td>0.113415</td>\n",
       "      <td>0.102155</td>\n",
       "      <td>0.040503</td>\n",
       "      <td>0.016301</td>\n",
       "      <td>0.604096</td>\n",
       "      <td>0.242094</td>\n",
       "      <td>0.154423</td>\n",
       "      <td>0.354854</td>\n",
       "      <td>0.284278</td>\n",
       "      <td>0.360868</td>\n",
       "    </tr>\n",
       "    <tr>\n",
       "      <th>1</th>\n",
       "      <td>.PARTOUCHE.</td>\n",
       "      <td>22</td>\n",
       "      <td>178311</td>\n",
       "      <td>15940.79</td>\n",
       "      <td>0.251039</td>\n",
       "      <td>0.201261</td>\n",
       "      <td>0.077332</td>\n",
       "      <td>0.314294</td>\n",
       "      <td>0.422270</td>\n",
       "      <td>0.242501</td>\n",
       "      <td>...</td>\n",
       "      <td>0.135371</td>\n",
       "      <td>0.076993</td>\n",
       "      <td>0.026232</td>\n",
       "      <td>0.010154</td>\n",
       "      <td>0.679106</td>\n",
       "      <td>0.209865</td>\n",
       "      <td>0.112322</td>\n",
       "      <td>0.481436</td>\n",
       "      <td>0.191832</td>\n",
       "      <td>0.326733</td>\n",
       "    </tr>\n",
       "    <tr>\n",
       "      <th>2</th>\n",
       "      <td>julien8082</td>\n",
       "      <td>22</td>\n",
       "      <td>110413</td>\n",
       "      <td>20157.79</td>\n",
       "      <td>0.277494</td>\n",
       "      <td>0.239465</td>\n",
       "      <td>0.077709</td>\n",
       "      <td>0.374164</td>\n",
       "      <td>0.475568</td>\n",
       "      <td>0.241437</td>\n",
       "      <td>...</td>\n",
       "      <td>0.190751</td>\n",
       "      <td>0.081782</td>\n",
       "      <td>0.044171</td>\n",
       "      <td>0.005646</td>\n",
       "      <td>0.656114</td>\n",
       "      <td>0.229410</td>\n",
       "      <td>0.115623</td>\n",
       "      <td>0.471349</td>\n",
       "      <td>0.173752</td>\n",
       "      <td>0.354898</td>\n",
       "    </tr>\n",
       "    <tr>\n",
       "      <th>3</th>\n",
       "      <td>PapiersSVP</td>\n",
       "      <td>0</td>\n",
       "      <td>103957</td>\n",
       "      <td>17549.39</td>\n",
       "      <td>0.257664</td>\n",
       "      <td>0.221630</td>\n",
       "      <td>0.109587</td>\n",
       "      <td>0.345363</td>\n",
       "      <td>0.467605</td>\n",
       "      <td>0.300238</td>\n",
       "      <td>...</td>\n",
       "      <td>0.099010</td>\n",
       "      <td>0.107238</td>\n",
       "      <td>0.051926</td>\n",
       "      <td>0.016876</td>\n",
       "      <td>0.541318</td>\n",
       "      <td>0.270994</td>\n",
       "      <td>0.188692</td>\n",
       "      <td>0.343150</td>\n",
       "      <td>0.281690</td>\n",
       "      <td>0.375160</td>\n",
       "    </tr>\n",
       "    <tr>\n",
       "      <th>4</th>\n",
       "      <td>NextPlease</td>\n",
       "      <td>22</td>\n",
       "      <td>99879</td>\n",
       "      <td>7326.03</td>\n",
       "      <td>0.260485</td>\n",
       "      <td>0.212327</td>\n",
       "      <td>0.082384</td>\n",
       "      <td>0.328379</td>\n",
       "      <td>0.461007</td>\n",
       "      <td>0.263755</td>\n",
       "      <td>...</td>\n",
       "      <td>0.147826</td>\n",
       "      <td>0.067406</td>\n",
       "      <td>0.023245</td>\n",
       "      <td>0.028610</td>\n",
       "      <td>0.596575</td>\n",
       "      <td>0.290834</td>\n",
       "      <td>0.114494</td>\n",
       "      <td>0.520629</td>\n",
       "      <td>0.108055</td>\n",
       "      <td>0.371316</td>\n",
       "    </tr>\n",
       "  </tbody>\n",
       "</table>\n",
       "<p>5 rows × 29 columns</p>\n",
       "</div>"
      ],
      "text/plain": [
       "   Player_Name  Site    Hands    Net_Won     VP$IP       PFR      3Bet  \\\n",
       "0       LocSta    22  2035485  128473.89  0.249043  0.210084  0.094206   \n",
       "1  .PARTOUCHE.    22   178311   15940.79  0.251039  0.201261  0.077332   \n",
       "2   julien8082    22   110413   20157.79  0.277494  0.239465  0.077709   \n",
       "3   PapiersSVP     0   103957   17549.39  0.257664  0.221630  0.109587   \n",
       "4   NextPlease    22    99879    7326.03  0.260485  0.212327  0.082384   \n",
       "\n",
       "   Postflop_Agg%    W$WSF%     WTSD%  ...  Raise_River_CBet   Squeeze  \\\n",
       "0       0.351073  0.477881  0.293348  ...          0.113415  0.102155   \n",
       "1       0.314294  0.422270  0.242501  ...          0.135371  0.076993   \n",
       "2       0.374164  0.475568  0.241437  ...          0.190751  0.081782   \n",
       "3       0.345363  0.467605  0.300238  ...          0.099010  0.107238   \n",
       "4       0.328379  0.461007  0.263755  ...          0.147826  0.067406   \n",
       "\n",
       "   Raise_Two_Raisers  Call_Two_Raisers  vs_3Bet_Fold  vs_3Bet_Call  \\\n",
       "0           0.040503          0.016301      0.604096      0.242094   \n",
       "1           0.026232          0.010154      0.679106      0.209865   \n",
       "2           0.044171          0.005646      0.656114      0.229410   \n",
       "3           0.051926          0.016876      0.541318      0.270994   \n",
       "4           0.023245          0.028610      0.596575      0.290834   \n",
       "\n",
       "   vs_3Bet_Raise  vs_4Bet_Fold  vs_4Bet_Call  vs_4Bet_Raise  \n",
       "0       0.154423      0.354854      0.284278       0.360868  \n",
       "1       0.112322      0.481436      0.191832       0.326733  \n",
       "2       0.115623      0.471349      0.173752       0.354898  \n",
       "3       0.188692      0.343150      0.281690       0.375160  \n",
       "4       0.114494      0.520629      0.108055       0.371316  \n",
       "\n",
       "[5 rows x 29 columns]"
      ]
     },
     "execution_count": 29,
     "metadata": {},
     "output_type": "execute_result"
    }
   ],
   "source": [
    "df.head()"
   ]
  },
  {
   "cell_type": "markdown",
   "metadata": {},
   "source": [
    "### Build the target based on Net Won vs Hands Played"
   ]
  },
  {
   "cell_type": "code",
   "execution_count": 30,
   "metadata": {},
   "outputs": [],
   "source": [
    "df[\"target\"] = df[\"Net_Won\"] > 0"
   ]
  },
  {
   "cell_type": "markdown",
   "metadata": {},
   "source": [
    "### Drop useless columns"
   ]
  },
  {
   "cell_type": "code",
   "execution_count": 31,
   "metadata": {},
   "outputs": [],
   "source": [
    "df.drop(['Player_Name', 'Site', \"Hands\", \"Net_Won\"], axis=1, inplace=True)"
   ]
  },
  {
   "cell_type": "markdown",
   "metadata": {},
   "source": [
    "## Pre-processing data"
   ]
  },
  {
   "cell_type": "markdown",
   "metadata": {},
   "source": [
    "#### Check data types"
   ]
  },
  {
   "cell_type": "code",
   "execution_count": 38,
   "metadata": {},
   "outputs": [
    {
     "name": "stdout",
     "output_type": "stream",
     "text": [
      "<class 'pandas.core.frame.DataFrame'>\n",
      "RangeIndex: 8822 entries, 0 to 8821\n",
      "Data columns (total 26 columns):\n",
      "VP$IP                 8822 non-null float64\n",
      "PFR                   8822 non-null float64\n",
      "3Bet                  8822 non-null float64\n",
      "Postflop_Agg%         8822 non-null float64\n",
      "W$WSF%                8822 non-null float64\n",
      "WTSD%                 8822 non-null float64\n",
      "Won_$_at_SD           8822 non-null float64\n",
      "Flop_CBet%            8822 non-null float64\n",
      "Turn_CBet%            8822 non-null float64\n",
      "River_CBet%           8822 non-null float64\n",
      "Fold_to_Flop_Cbet     8822 non-null float64\n",
      "Fold_to_Turn_CBet     8822 non-null float64\n",
      "Fold_to_River_CBet    8822 non-null float64\n",
      "Raise_Flop_Cbet       8822 non-null float64\n",
      "Raise_Turn_CBet       8822 non-null float64\n",
      "Raise_River_CBet      8822 non-null float64\n",
      "Squeeze               8822 non-null float64\n",
      "Raise_Two_Raisers     8822 non-null float64\n",
      "Call_Two_Raisers      8822 non-null float64\n",
      "vs_3Bet_Fold          8822 non-null float64\n",
      "vs_3Bet_Call          8822 non-null float64\n",
      "vs_3Bet_Raise         8822 non-null float64\n",
      "vs_4Bet_Fold          8822 non-null float64\n",
      "vs_4Bet_Call          8822 non-null float64\n",
      "vs_4Bet_Raise         8822 non-null float64\n",
      "target                8822 non-null bool\n",
      "dtypes: bool(1), float64(25)\n",
      "memory usage: 1.7 MB\n"
     ]
    }
   ],
   "source": [
    "df.info()"
   ]
  },
  {
   "cell_type": "markdown",
   "metadata": {},
   "source": [
    "All our predictors are floats (percentages), there are no missing values and our target is a boolean"
   ]
  },
  {
   "cell_type": "markdown",
   "metadata": {},
   "source": [
    "#TODO: Check for number of unique values in the last 15 columns and maybe drop the ones that don't have a lot of different values meaning there were not enough occurences"
   ]
  },
  {
   "cell_type": "markdown",
   "metadata": {},
   "source": [
    "### Check for class imbalance"
   ]
  },
  {
   "cell_type": "code",
   "execution_count": 43,
   "metadata": {},
   "outputs": [
    {
     "name": "stdout",
     "output_type": "stream",
     "text": [
      "3085 winners\n",
      "5737 losers\n",
      "Winners % 0.3496939469508048\n",
      "Losers % 0.6503060530491952\n"
     ]
    }
   ],
   "source": [
    "winners = len(df[df[\"target\"] == True])\n",
    "losers = len(df[df[\"target\"] == False])\n",
    "print(winners, \"winners\")\n",
    "print(losers, \"losers\")\n",
    "print(\"Winners %\", winners / (winners + losers))\n",
    "print(\"Losers %\", 1 - (winners / (winners + losers)))"
   ]
  },
  {
   "cell_type": "markdown",
   "metadata": {},
   "source": [
    "The class imbalance isn't very strong, therefore we can move on with this data"
   ]
  },
  {
   "cell_type": "code",
   "execution_count": null,
   "metadata": {},
   "outputs": [],
   "source": []
  },
  {
   "cell_type": "markdown",
   "metadata": {},
   "source": [
    "## Interactions"
   ]
  },
  {
   "cell_type": "code",
   "execution_count": null,
   "metadata": {},
   "outputs": [],
   "source": [
    "# Todo: Build interaction features"
   ]
  },
  {
   "cell_type": "markdown",
   "metadata": {},
   "source": [
    "## Polynomials"
   ]
  },
  {
   "cell_type": "code",
   "execution_count": null,
   "metadata": {},
   "outputs": [],
   "source": [
    "# Todo: Build polynomials features"
   ]
  },
  {
   "cell_type": "markdown",
   "metadata": {},
   "source": [
    "### Split the data between train, validation and test datasets"
   ]
  },
  {
   "cell_type": "code",
   "execution_count": null,
   "metadata": {},
   "outputs": [],
   "source": [
    "labels = df[\"target\"]\n",
    "df = df.drop([\"target\"], axis=1)\n",
    "X_train, X_test, y_train, y_test = train_test_split(df, labels, test_size=0.20, random_state=42)"
   ]
  },
  {
   "cell_type": "markdown",
   "metadata": {},
   "source": [
    "### Scale using min max scaling ?"
   ]
  },
  {
   "cell_type": "code",
   "execution_count": null,
   "metadata": {},
   "outputs": [],
   "source": [
    "# # Instantiate StandardScaler\n",
    "# scaler = StandardScaler()\n",
    "# # MinMaxScaler(feature_range=(0, 1), copy=True)\n",
    "# # https://scikit-learn.org/stable/modules/generated/sklearn.preprocessing.MinMaxScaler.html\n",
    "\n",
    "# # Transform the training and test sets\n",
    "# scaled_data_train = scaler.fit_transform(X_train)\n",
    "# scaled_data_test = scaler.transform(X_test)\n",
    "\n",
    "# # Convert into a DataFrame\n",
    "# scaled_df_train = pd.DataFrame(scaled_data_train, columns=one_hot_df.columns)\n",
    "# scaled_df_train.head()"
   ]
  },
  {
   "cell_type": "markdown",
   "metadata": {},
   "source": [
    "## Pipelines"
   ]
  },
  {
   "cell_type": "code",
   "execution_count": null,
   "metadata": {},
   "outputs": [],
   "source": [
    "# # Construct some pipelines\n",
    "# pipe_svm = Pipeline([('pca', PCA(n_components=27)),\n",
    "#         ('clf', svm.SVC(random_state=123))])\n",
    "        \n",
    "# pipe_tree = Pipeline([('pca', PCA(n_components=27)),\n",
    "#         ('clf', tree.DecisionTreeClassifier(random_state=123))])\n",
    "\n",
    "# pipe_rf = Pipeline([('pca', PCA(n_components=27)),\n",
    "#         ('clf', RandomForestClassifier(random_state=123))])\n",
    "\n",
    "# # List of pipelines, List of pipeline names\n",
    "# pipelines = [pipe_svm, pipe_tree, pipe_rf]\n",
    "# pipeline_names = ['Support Vector Machine','Decision Tree','Random Forest']\n",
    "\n",
    "# # Loop to fit each of the three pipelines\n",
    "# for pipe in pipelines:\n",
    "#     print(pipe)\n",
    "#     pipe.fit(X_train, y_train)\n",
    "\n",
    "# # Compare accuracies\n",
    "# for index, val in enumerate(pipelines):\n",
    "#     print('%s pipeline test accuracy: %.3f' % (pipeline_names[index], val.score(X_test, y_test)))"
   ]
  },
  {
   "cell_type": "markdown",
   "metadata": {},
   "source": [
    "## Pipelines with gridsearch"
   ]
  },
  {
   "cell_type": "code",
   "execution_count": null,
   "metadata": {},
   "outputs": [],
   "source": [
    "# # ⏰ This cell may take a long time to run!\n",
    "# # Construct pipeline\n",
    "# pipe_rf = Pipeline([('pca', PCA(n_components=27)),\n",
    "#             ('clf', RandomForestClassifier(random_state = 123))])\n",
    "\n",
    "# # Set grid search params\n",
    "# param_grid_forest = [ \n",
    "#   {'clf__n_estimators': [120],\n",
    "#    'clf__criterion': ['entropy', 'gini'], \n",
    "#    'clf__max_depth': [4, 5, 6],  \n",
    "#    'clf__min_samples_leaf':[0.05 ,0.1, 0.2],  \n",
    "#    'clf__min_samples_split':[0.05 ,0.1, 0.2]\n",
    "#   }\n",
    "# ]\n",
    "\n",
    "# # Construct grid search\n",
    "# gs_rf = GridSearchCV(estimator=pipe_rf,\n",
    "#             param_grid=param_grid_forest,\n",
    "#             scoring='accuracy',\n",
    "#             cv=3, verbose=2, return_train_score = True)\n",
    "\n",
    "# # Fit using grid search\n",
    "# gs_rf.fit(X_train, y_train)\n",
    "\n",
    "# # Best accuracy\n",
    "# print('Best accuracy: %.3f' % gs_rf.best_score_)\n",
    "\n",
    "# # Best params\n",
    "# print('\\nBest params:\\n', gs_rf.best_params_)"
   ]
  },
  {
   "cell_type": "markdown",
   "metadata": {},
   "source": [
    "## Running logistic regression with different thresholds"
   ]
  },
  {
   "cell_type": "code",
   "execution_count": null,
   "metadata": {},
   "outputs": [],
   "source": []
  },
  {
   "cell_type": "markdown",
   "metadata": {},
   "source": [
    "## Run KNNs"
   ]
  },
  {
   "cell_type": "code",
   "execution_count": null,
   "metadata": {},
   "outputs": [],
   "source": [
    "# Instantiate KNeighborsClassifier\n",
    "clf = KNeighborsClassifier()\n",
    "\n",
    "# Fit the classifier\n",
    "clf.fit(scaled_data_train, y_train)\n",
    "\n",
    "# Predict on the test set\n",
    "test_preds = clf.predict(scaled_data_test)\n",
    "\n",
    "# evaluation metrics for the test predictions stored in test_preds, and the corresponding labels in y_test.\n",
    "print_metrics(y_test, test_preds)\n",
    "\n",
    "# Finding the best K\n",
    "find_best_k(X_train, y_train, X_test, y_test, min_k=1, max_k=25)"
   ]
  },
  {
   "cell_type": "markdown",
   "metadata": {},
   "source": [
    "For further tuning, you can use scikit-learn's built-in GridSearch() to perform a similar exhaustive check of hyperparameter combinations and fine tune model performance. For a full list of model parameters, see the sklearn documentation !"
   ]
  },
  {
   "cell_type": "markdown",
   "metadata": {},
   "source": [
    "## Run SVMs"
   ]
  },
  {
   "cell_type": "markdown",
   "metadata": {},
   "source": [
    "https://github.com/learn-co-students/dsc-building-an-svm-using-scikit-learn-lab-london-ds-111819/tree/solution"
   ]
  },
  {
   "cell_type": "markdown",
   "metadata": {},
   "source": [
    "Kernel Trick\n",
    "https://github.com/learn-co-students/dsc-kernels-in-scikit-learn-lab-london-ds-111819/tree/solution"
   ]
  },
  {
   "cell_type": "markdown",
   "metadata": {},
   "source": [
    "## Run Decision Trees"
   ]
  },
  {
   "cell_type": "code",
   "execution_count": null,
   "metadata": {},
   "outputs": [],
   "source": [
    "# Create the classifier, fit it on the training data and make predictions on the test set\n",
    "# clf = DecisionTreeClassifier(criterion='entropy')\n",
    "\n",
    "# clf.fit(X_train, y_train)"
   ]
  },
  {
   "cell_type": "markdown",
   "metadata": {},
   "source": [
    "## Run Clustering"
   ]
  },
  {
   "cell_type": "code",
   "execution_count": null,
   "metadata": {},
   "outputs": [],
   "source": []
  },
  {
   "cell_type": "markdown",
   "metadata": {},
   "source": [
    "## Run Ensemble Methods"
   ]
  },
  {
   "cell_type": "code",
   "execution_count": null,
   "metadata": {},
   "outputs": [],
   "source": []
  },
  {
   "cell_type": "markdown",
   "metadata": {},
   "source": [
    "# Conclusions"
   ]
  },
  {
   "cell_type": "code",
   "execution_count": null,
   "metadata": {},
   "outputs": [],
   "source": []
  }
 ],
 "metadata": {
  "kernelspec": {
   "display_name": "Python 3",
   "language": "python",
   "name": "python3"
  },
  "language_info": {
   "codemirror_mode": {
    "name": "ipython",
    "version": 3
   },
   "file_extension": ".py",
   "mimetype": "text/x-python",
   "name": "python",
   "nbconvert_exporter": "python",
   "pygments_lexer": "ipython3",
   "version": "3.7.3"
  }
 },
 "nbformat": 4,
 "nbformat_minor": 2
}
